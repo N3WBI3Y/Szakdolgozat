{
 "cells": [
  {
   "cell_type": "code",
   "execution_count": 121,
   "id": "9eb879f3",
   "metadata": {},
   "outputs": [],
   "source": [
    "import pandas as pd\n",
    "import numpy as np\n",
    "import matplotlib.pyplot as plt\n",
    "import seaborn as sns\n",
    "import json\n",
    "from ast import literal_eval\n"
   ]
  },
  {
   "cell_type": "code",
   "execution_count": 122,
   "id": "129b32aa",
   "metadata": {},
   "outputs": [
    {
     "data": {
      "text/html": [
       "<div>\n",
       "<style scoped>\n",
       "    .dataframe tbody tr th:only-of-type {\n",
       "        vertical-align: middle;\n",
       "    }\n",
       "\n",
       "    .dataframe tbody tr th {\n",
       "        vertical-align: top;\n",
       "    }\n",
       "\n",
       "    .dataframe thead th {\n",
       "        text-align: right;\n",
       "    }\n",
       "</style>\n",
       "<table border=\"1\" class=\"dataframe\">\n",
       "  <thead>\n",
       "    <tr style=\"text-align: right;\">\n",
       "      <th></th>\n",
       "      <th>userId</th>\n",
       "      <th>movieId</th>\n",
       "      <th>rating</th>\n",
       "      <th>timestamp</th>\n",
       "    </tr>\n",
       "  </thead>\n",
       "  <tbody>\n",
       "    <tr>\n",
       "      <th>0</th>\n",
       "      <td>1</td>\n",
       "      <td>110</td>\n",
       "      <td>1.0</td>\n",
       "      <td>1425941529</td>\n",
       "    </tr>\n",
       "    <tr>\n",
       "      <th>1</th>\n",
       "      <td>1</td>\n",
       "      <td>147</td>\n",
       "      <td>4.5</td>\n",
       "      <td>1425942435</td>\n",
       "    </tr>\n",
       "    <tr>\n",
       "      <th>2</th>\n",
       "      <td>1</td>\n",
       "      <td>858</td>\n",
       "      <td>5.0</td>\n",
       "      <td>1425941523</td>\n",
       "    </tr>\n",
       "    <tr>\n",
       "      <th>3</th>\n",
       "      <td>1</td>\n",
       "      <td>1221</td>\n",
       "      <td>5.0</td>\n",
       "      <td>1425941546</td>\n",
       "    </tr>\n",
       "    <tr>\n",
       "      <th>4</th>\n",
       "      <td>1</td>\n",
       "      <td>1246</td>\n",
       "      <td>5.0</td>\n",
       "      <td>1425941556</td>\n",
       "    </tr>\n",
       "  </tbody>\n",
       "</table>\n",
       "</div>"
      ],
      "text/plain": [
       "   userId  movieId  rating   timestamp\n",
       "0       1      110     1.0  1425941529\n",
       "1       1      147     4.5  1425942435\n",
       "2       1      858     5.0  1425941523\n",
       "3       1     1221     5.0  1425941546\n",
       "4       1     1246     5.0  1425941556"
      ]
     },
     "execution_count": 122,
     "metadata": {},
     "output_type": "execute_result"
    }
   ],
   "source": [
    "ratings_df = pd.read_csv(\"G:\\\\Study\\\\Szakdolgozat\\\\input\\\\ratings.csv\")\n",
    "ratings_df.head()"
   ]
  },
  {
   "cell_type": "code",
   "execution_count": 123,
   "id": "456ea6f9",
   "metadata": {
    "scrolled": false
   },
   "outputs": [
    {
     "name": "stderr",
     "output_type": "stream",
     "text": [
      "c:\\users\\dávid\\appdata\\local\\programs\\python\\python39\\lib\\site-packages\\IPython\\core\\interactiveshell.py:3441: DtypeWarning: Columns (10) have mixed types.Specify dtype option on import or set low_memory=False.\n",
      "  exec(code_obj, self.user_global_ns, self.user_ns)\n"
     ]
    }
   ],
   "source": [
    "movies_df = pd.read_csv(\"G:\\\\Study\\\\Szakdolgozat\\\\input\\\\movies_metadata.csv\")"
   ]
  },
  {
   "cell_type": "code",
   "execution_count": 124,
   "id": "5d782c71",
   "metadata": {
    "scrolled": false
   },
   "outputs": [
    {
     "data": {
      "text/html": [
       "<div>\n",
       "<style scoped>\n",
       "    .dataframe tbody tr th:only-of-type {\n",
       "        vertical-align: middle;\n",
       "    }\n",
       "\n",
       "    .dataframe tbody tr th {\n",
       "        vertical-align: top;\n",
       "    }\n",
       "\n",
       "    .dataframe thead th {\n",
       "        text-align: right;\n",
       "    }\n",
       "</style>\n",
       "<table border=\"1\" class=\"dataframe\">\n",
       "  <thead>\n",
       "    <tr style=\"text-align: right;\">\n",
       "      <th></th>\n",
       "      <th>movieId</th>\n",
       "      <th>original_title</th>\n",
       "      <th>vote_average</th>\n",
       "      <th>vote_count</th>\n",
       "    </tr>\n",
       "  </thead>\n",
       "  <tbody>\n",
       "    <tr>\n",
       "      <th>0</th>\n",
       "      <td>862</td>\n",
       "      <td>Toy Story</td>\n",
       "      <td>7.7</td>\n",
       "      <td>5415.0</td>\n",
       "    </tr>\n",
       "    <tr>\n",
       "      <th>1</th>\n",
       "      <td>8844</td>\n",
       "      <td>Jumanji</td>\n",
       "      <td>6.9</td>\n",
       "      <td>2413.0</td>\n",
       "    </tr>\n",
       "    <tr>\n",
       "      <th>2</th>\n",
       "      <td>15602</td>\n",
       "      <td>Grumpier Old Men</td>\n",
       "      <td>6.5</td>\n",
       "      <td>92.0</td>\n",
       "    </tr>\n",
       "    <tr>\n",
       "      <th>3</th>\n",
       "      <td>31357</td>\n",
       "      <td>Waiting to Exhale</td>\n",
       "      <td>6.1</td>\n",
       "      <td>34.0</td>\n",
       "    </tr>\n",
       "    <tr>\n",
       "      <th>4</th>\n",
       "      <td>11862</td>\n",
       "      <td>Father of the Bride Part II</td>\n",
       "      <td>5.7</td>\n",
       "      <td>173.0</td>\n",
       "    </tr>\n",
       "    <tr>\n",
       "      <th>...</th>\n",
       "      <td>...</td>\n",
       "      <td>...</td>\n",
       "      <td>...</td>\n",
       "      <td>...</td>\n",
       "    </tr>\n",
       "    <tr>\n",
       "      <th>45461</th>\n",
       "      <td>439050</td>\n",
       "      <td>رگ خواب</td>\n",
       "      <td>4.0</td>\n",
       "      <td>1.0</td>\n",
       "    </tr>\n",
       "    <tr>\n",
       "      <th>45462</th>\n",
       "      <td>111109</td>\n",
       "      <td>Siglo ng Pagluluwal</td>\n",
       "      <td>9.0</td>\n",
       "      <td>3.0</td>\n",
       "    </tr>\n",
       "    <tr>\n",
       "      <th>45463</th>\n",
       "      <td>67758</td>\n",
       "      <td>Betrayal</td>\n",
       "      <td>3.8</td>\n",
       "      <td>6.0</td>\n",
       "    </tr>\n",
       "    <tr>\n",
       "      <th>45464</th>\n",
       "      <td>227506</td>\n",
       "      <td>Satana likuyushchiy</td>\n",
       "      <td>0.0</td>\n",
       "      <td>0.0</td>\n",
       "    </tr>\n",
       "    <tr>\n",
       "      <th>45465</th>\n",
       "      <td>461257</td>\n",
       "      <td>Queerama</td>\n",
       "      <td>0.0</td>\n",
       "      <td>0.0</td>\n",
       "    </tr>\n",
       "  </tbody>\n",
       "</table>\n",
       "<p>45466 rows × 4 columns</p>\n",
       "</div>"
      ],
      "text/plain": [
       "      movieId               original_title  vote_average  vote_count\n",
       "0         862                    Toy Story           7.7      5415.0\n",
       "1        8844                      Jumanji           6.9      2413.0\n",
       "2       15602             Grumpier Old Men           6.5        92.0\n",
       "3       31357            Waiting to Exhale           6.1        34.0\n",
       "4       11862  Father of the Bride Part II           5.7       173.0\n",
       "...       ...                          ...           ...         ...\n",
       "45461  439050                      رگ خواب           4.0         1.0\n",
       "45462  111109          Siglo ng Pagluluwal           9.0         3.0\n",
       "45463   67758                     Betrayal           3.8         6.0\n",
       "45464  227506          Satana likuyushchiy           0.0         0.0\n",
       "45465  461257                     Queerama           0.0         0.0\n",
       "\n",
       "[45466 rows x 4 columns]"
      ]
     },
     "execution_count": 124,
     "metadata": {},
     "output_type": "execute_result"
    }
   ],
   "source": [
    "movies_df = movies_df[['id','original_title','vote_average','vote_count']]\n",
    "movies_df.rename(columns={\"id\" : \"movieId\"},inplace = True)\n",
    "movies_df"
   ]
  },
  {
   "cell_type": "code",
   "execution_count": 125,
   "id": "389089f2",
   "metadata": {},
   "outputs": [],
   "source": [
    "each_user_rate_count = ratings_df[['userId','movieId']].groupby('userId').count()"
   ]
  },
  {
   "cell_type": "code",
   "execution_count": 126,
   "id": "9d2aa82c",
   "metadata": {},
   "outputs": [],
   "source": [
    "def numberOfMoviesRatedGroup(value):\n",
    "    if(0 <= value < 5):\n",
    "        return \"Less than 5\"\n",
    "    elif(5<=value<10):\n",
    "        return \"More than 5 less than 10\"\n",
    "    elif(10<=value<20):\n",
    "        return \"More than 10 less than 20\"\n",
    "    elif(20<=value<30):\n",
    "        return \"More than 20 less than 30\"\n",
    "    elif(30<=value<40):\n",
    "        return \"More than 30 less than 40\"\n",
    "    elif(40<=value<=50):\n",
    "        return \"More than 40 less than 50\"\n",
    "    elif(50<=value<60):\n",
    "        return \"More than 50 less than 60\"\n",
    "    elif(60<=value<100):\n",
    "        return \"More than 60 less than 100\"\n",
    "    elif(100<value):\n",
    "        return \"More than 100\""
   ]
  },
  {
   "cell_type": "code",
   "execution_count": 127,
   "id": "2da28263",
   "metadata": {},
   "outputs": [],
   "source": [
    "each_user_rate_count['count_group'] = each_user_rate_count['movieId'].apply(numberOfMoviesRatedGroup)"
   ]
  },
  {
   "cell_type": "code",
   "execution_count": 128,
   "id": "491b80a6",
   "metadata": {
    "scrolled": true
   },
   "outputs": [
    {
     "data": {
      "text/plain": [
       "<AxesSubplot:xlabel='count_group', ylabel='count'>"
      ]
     },
     "execution_count": 128,
     "metadata": {},
     "output_type": "execute_result"
    },
    {
     "data": {
      "image/png": "[encoded data removed]",
      "text/plain": [
       "<Figure size 432x288 with 1 Axes>"
      ]
     },
     "metadata": {
      "needs_background": "light"
     },
     "output_type": "display_data"
    }
   ],
   "source": [
    "plt.xticks(rotation = 90)\n",
    "sns.countplot(x='count_group',data = each_user_rate_count)"
   ]
  },
  {
   "cell_type": "code",
   "execution_count": 129,
   "id": "ddb2ba05",
   "metadata": {
    "scrolled": false
   },
   "outputs": [
    {
     "data": {
      "text/plain": [
       "<AxesSubplot:title={'center':'Movie vote average distribution'}, xlabel='rating', ylabel='count'>"
      ]
     },
     "execution_count": 129,
     "metadata": {},
     "output_type": "execute_result"
    },
    {
     "data": {
      "image/png": "[encoded data removed]",
      "text/plain": [
       "<Figure size 432x288 with 1 Axes>"
      ]
     },
     "metadata": {
      "needs_background": "light"
     },
     "output_type": "display_data"
    }
   ],
   "source": [
    "plt.title(\"Movie vote average distribution\")\n",
    "sns.countplot(x='rating',data = ratings_df)"
   ]
  },
  {
   "cell_type": "code",
   "execution_count": 140,
   "id": "01c94e2a",
   "metadata": {},
   "outputs": [
    {
     "name": "stdout",
     "output_type": "stream",
     "text": [
      "number of unique voters : 270896 \n",
      "number of unique movies : 45115\n"
     ]
    }
   ],
   "source": [
    "number_of_voters = ratings_df['userId'].nunique()\n",
    "number_of_movies = ratings_df['movieId'].nunique()\n",
    "print(\"number of unique voters :\",number_of_voters,\"\\nnumber of unique movies :\",number_of_movies)"
   ]
  },
  {
   "cell_type": "code",
   "execution_count": 141,
   "id": "60ce7ad0",
   "metadata": {},
   "outputs": [],
   "source": [
    "top10mostvoted = ratings_df.groupby(\"movieId\").count().reset_index()\n",
    "top10mostvoted = top_10_voted_movie.sort_values([\"userId\"],ascending=[False])[0:10]"
   ]
  },
  {
   "cell_type": "code",
   "execution_count": 142,
   "id": "1cee3ff6",
   "metadata": {},
   "outputs": [],
   "source": [
    "movies_df['movieId'] = pd.to_numeric(movies_df['movieId'], errors=\"coerce\")\n",
    "movies_df.dropna(how=\"any\", inplace=True)\n",
    "movies_df['movieId'] = movies_df[\"movieId\"].astype(np.int64)"
   ]
  },
  {
   "cell_type": "code",
   "execution_count": 143,
   "id": "c95d9894",
   "metadata": {},
   "outputs": [],
   "source": [
    "top10mostvoted = top10mostvoted.merge(movies_df[[\"movieId\",\"original_title\"]],on=\"movieId\")"
   ]
  },
  {
   "cell_type": "code",
   "execution_count": 144,
   "id": "259e17e5",
   "metadata": {
    "scrolled": true
   },
   "outputs": [
    {
     "data": {
      "text/html": [
       "<div>\n",
       "<style scoped>\n",
       "    .dataframe tbody tr th:only-of-type {\n",
       "        vertical-align: middle;\n",
       "    }\n",
       "\n",
       "    .dataframe tbody tr th {\n",
       "        vertical-align: top;\n",
       "    }\n",
       "\n",
       "    .dataframe thead th {\n",
       "        text-align: right;\n",
       "    }\n",
       "</style>\n",
       "<table border=\"1\" class=\"dataframe\">\n",
       "  <thead>\n",
       "    <tr style=\"text-align: right;\">\n",
       "      <th></th>\n",
       "      <th>movieId</th>\n",
       "      <th>userId</th>\n",
       "      <th>rating</th>\n",
       "      <th>timestamp</th>\n",
       "      <th>original_title</th>\n",
       "    </tr>\n",
       "  </thead>\n",
       "  <tbody>\n",
       "    <tr>\n",
       "      <th>0</th>\n",
       "      <td>318</td>\n",
       "      <td>91082</td>\n",
       "      <td>91082</td>\n",
       "      <td>91082</td>\n",
       "      <td>The Million Dollar Hotel</td>\n",
       "    </tr>\n",
       "    <tr>\n",
       "      <th>1</th>\n",
       "      <td>296</td>\n",
       "      <td>87901</td>\n",
       "      <td>87901</td>\n",
       "      <td>87901</td>\n",
       "      <td>Terminator 3: Rise of the Machines</td>\n",
       "    </tr>\n",
       "    <tr>\n",
       "      <th>2</th>\n",
       "      <td>593</td>\n",
       "      <td>84078</td>\n",
       "      <td>84078</td>\n",
       "      <td>84078</td>\n",
       "      <td>Солярис</td>\n",
       "    </tr>\n",
       "    <tr>\n",
       "      <th>3</th>\n",
       "      <td>260</td>\n",
       "      <td>77045</td>\n",
       "      <td>77045</td>\n",
       "      <td>77045</td>\n",
       "      <td>The 39 Steps</td>\n",
       "    </tr>\n",
       "    <tr>\n",
       "      <th>4</th>\n",
       "      <td>480</td>\n",
       "      <td>74355</td>\n",
       "      <td>74355</td>\n",
       "      <td>74355</td>\n",
       "      <td>Monsoon Wedding</td>\n",
       "    </tr>\n",
       "    <tr>\n",
       "      <th>5</th>\n",
       "      <td>527</td>\n",
       "      <td>67662</td>\n",
       "      <td>67662</td>\n",
       "      <td>67662</td>\n",
       "      <td>Once Were Warriors</td>\n",
       "    </tr>\n",
       "    <tr>\n",
       "      <th>6</th>\n",
       "      <td>110</td>\n",
       "      <td>66512</td>\n",
       "      <td>66512</td>\n",
       "      <td>66512</td>\n",
       "      <td>Trois couleurs : Rouge</td>\n",
       "    </tr>\n",
       "    <tr>\n",
       "      <th>7</th>\n",
       "      <td>2959</td>\n",
       "      <td>60024</td>\n",
       "      <td>60024</td>\n",
       "      <td>60024</td>\n",
       "      <td>License to Wed</td>\n",
       "    </tr>\n",
       "  </tbody>\n",
       "</table>\n",
       "</div>"
      ],
      "text/plain": [
       "   movieId  userId  rating  timestamp                      original_title\n",
       "0      318   91082   91082      91082            The Million Dollar Hotel\n",
       "1      296   87901   87901      87901  Terminator 3: Rise of the Machines\n",
       "2      593   84078   84078      84078                             Солярис\n",
       "3      260   77045   77045      77045                        The 39 Steps\n",
       "4      480   74355   74355      74355                     Monsoon Wedding\n",
       "5      527   67662   67662      67662                  Once Were Warriors\n",
       "6      110   66512   66512      66512              Trois couleurs : Rouge\n",
       "7     2959   60024   60024      60024                      License to Wed"
      ]
     },
     "execution_count": 144,
     "metadata": {},
     "output_type": "execute_result"
    }
   ],
   "source": [
    "top10mostvoted"
   ]
  }
 ],
 "metadata": {
  "kernelspec": {
   "display_name": "Python 3",
   "language": "python",
   "name": "python3"
  },
  "language_info": {
   "codemirror_mode": {
    "name": "ipython",
    "version": 3
   },
   "file_extension": ".py",
   "mimetype": "text/x-python",
   "name": "python",
   "nbconvert_exporter": "python",
   "pygments_lexer": "ipython3",
   "version": "3.9.5"
  }
 },
 "nbformat": 4,
 "nbformat_minor": 5
}
